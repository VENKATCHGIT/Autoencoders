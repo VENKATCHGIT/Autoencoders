{
 "cells": [
  {
   "cell_type": "markdown",
   "metadata": {},
   "source": [
    "## Auto-Encoders in Neural Network"
   ]
  },
  {
   "cell_type": "markdown",
   "metadata": {},
   "source": [
    "#### Autoencoder is an  artificial neural network that learns how to efficiently compress and encode data then learns how to reconstruct the data back from the reduced encoded representation to a representation that is as close to the original input as possible.\n",
    "\n",
    "#### When ? - If you have additional unlabeled data (beyond the labelled training data). e.g. If you are recognizing employee faces do could use unlabeled face images (of any face).\n",
    "\n",
    "#### By making use of (plentiful) unlabelled data – to generate a reduced dimension encoding. As the encoding is reduced dimension, the amount of labelled training data to train a classifier is reduced.\n",
    "\n"
   ]
  },
  {
   "cell_type": "markdown",
   "metadata": {},
   "source": [
    "## Downloading the MNIST dataset"
   ]
  },
  {
   "cell_type": "code",
   "execution_count": 1,
   "metadata": {
    "scrolled": true
   },
   "outputs": [
    {
     "name": "stderr",
     "output_type": "stream",
     "text": [
      "Using TensorFlow backend.\n"
     ]
    }
   ],
   "source": [
    "from keras.datasets import mnist\n",
    "(x_train,_), (x_test,_) = mnist.load_data()"
   ]
  },
  {
   "cell_type": "code",
   "execution_count": 2,
   "metadata": {},
   "outputs": [
    {
     "data": {
      "text/plain": [
       "array([[[0, 0, 0, ..., 0, 0, 0],\n",
       "        [0, 0, 0, ..., 0, 0, 0],\n",
       "        [0, 0, 0, ..., 0, 0, 0],\n",
       "        ...,\n",
       "        [0, 0, 0, ..., 0, 0, 0],\n",
       "        [0, 0, 0, ..., 0, 0, 0],\n",
       "        [0, 0, 0, ..., 0, 0, 0]],\n",
       "\n",
       "       [[0, 0, 0, ..., 0, 0, 0],\n",
       "        [0, 0, 0, ..., 0, 0, 0],\n",
       "        [0, 0, 0, ..., 0, 0, 0],\n",
       "        ...,\n",
       "        [0, 0, 0, ..., 0, 0, 0],\n",
       "        [0, 0, 0, ..., 0, 0, 0],\n",
       "        [0, 0, 0, ..., 0, 0, 0]],\n",
       "\n",
       "       [[0, 0, 0, ..., 0, 0, 0],\n",
       "        [0, 0, 0, ..., 0, 0, 0],\n",
       "        [0, 0, 0, ..., 0, 0, 0],\n",
       "        ...,\n",
       "        [0, 0, 0, ..., 0, 0, 0],\n",
       "        [0, 0, 0, ..., 0, 0, 0],\n",
       "        [0, 0, 0, ..., 0, 0, 0]],\n",
       "\n",
       "       ...,\n",
       "\n",
       "       [[0, 0, 0, ..., 0, 0, 0],\n",
       "        [0, 0, 0, ..., 0, 0, 0],\n",
       "        [0, 0, 0, ..., 0, 0, 0],\n",
       "        ...,\n",
       "        [0, 0, 0, ..., 0, 0, 0],\n",
       "        [0, 0, 0, ..., 0, 0, 0],\n",
       "        [0, 0, 0, ..., 0, 0, 0]],\n",
       "\n",
       "       [[0, 0, 0, ..., 0, 0, 0],\n",
       "        [0, 0, 0, ..., 0, 0, 0],\n",
       "        [0, 0, 0, ..., 0, 0, 0],\n",
       "        ...,\n",
       "        [0, 0, 0, ..., 0, 0, 0],\n",
       "        [0, 0, 0, ..., 0, 0, 0],\n",
       "        [0, 0, 0, ..., 0, 0, 0]],\n",
       "\n",
       "       [[0, 0, 0, ..., 0, 0, 0],\n",
       "        [0, 0, 0, ..., 0, 0, 0],\n",
       "        [0, 0, 0, ..., 0, 0, 0],\n",
       "        ...,\n",
       "        [0, 0, 0, ..., 0, 0, 0],\n",
       "        [0, 0, 0, ..., 0, 0, 0],\n",
       "        [0, 0, 0, ..., 0, 0, 0]]], dtype=uint8)"
      ]
     },
     "execution_count": 2,
     "metadata": {},
     "output_type": "execute_result"
    }
   ],
   "source": [
    "x_train"
   ]
  },
  {
   "cell_type": "code",
   "execution_count": 3,
   "metadata": {},
   "outputs": [],
   "source": [
    "from random import randint\n",
    "from matplotlib import pyplot as plt"
   ]
  },
  {
   "cell_type": "code",
   "execution_count": 4,
   "metadata": {},
   "outputs": [
    {
     "data": {
      "text/plain": [
       "<matplotlib.image.AxesImage at 0x63945b3d0>"
      ]
     },
     "execution_count": 4,
     "metadata": {},
     "output_type": "execute_result"
    },
    {
     "data": {
      "image/png": "[encoded data removed]",
      "text/plain": [
       "<Figure size 432x288 with 1 Axes>"
      ]
     },
     "metadata": {
      "needs_background": "light"
     },
     "output_type": "display_data"
    }
   ],
   "source": [
    "plt.imshow(x_train[randint(0, x_train.shape[1])])"
   ]
  },
  {
   "cell_type": "code",
   "execution_count": 5,
   "metadata": {
    "scrolled": true
   },
   "outputs": [
    {
     "data": {
      "text/plain": [
       "(60000, 28, 28)"
      ]
     },
     "execution_count": 5,
     "metadata": {},
     "output_type": "execute_result"
    }
   ],
   "source": [
    "x_train.shape"
   ]
  },
  {
   "cell_type": "markdown",
   "metadata": {},
   "source": [
    "#### Re-sizing the shape of data\n",
    "#### Each training example is of size 28 x 28 (2-d matrix). But in the machine learning world \n",
    "#### we assume training examples as rows and features as columns. Hence, reshaping 28 x 28 image to row of 784 columns."
   ]
  },
  {
   "cell_type": "code",
   "execution_count": 6,
   "metadata": {},
   "outputs": [],
   "source": [
    "x_train = x_train.reshape(x_train.shape[0], x_train.shape[1] * x_train.shape[2])\n",
    "x_test = x_test.reshape(x_test.shape[0], x_test.shape[1] * x_test.shape[2])"
   ]
  },
  {
   "cell_type": "markdown",
   "metadata": {},
   "source": [
    "#### Normalizing the data\n",
    "#### Dividing with 255 since the pixel ranges between 0-255"
   ]
  },
  {
   "cell_type": "code",
   "execution_count": 7,
   "metadata": {},
   "outputs": [],
   "source": [
    "x_train = x_train / 255"
   ]
  },
  {
   "cell_type": "code",
   "execution_count": 8,
   "metadata": {},
   "outputs": [],
   "source": [
    "x_test = x_test / 255"
   ]
  },
  {
   "cell_type": "code",
   "execution_count": 53,
   "metadata": {},
   "outputs": [],
   "source": [
    "from keras.models import Model"
   ]
  },
  {
   "cell_type": "code",
   "execution_count": 54,
   "metadata": {},
   "outputs": [],
   "source": [
    "from keras.layers import Dense, Input"
   ]
  },
  {
   "cell_type": "markdown",
   "metadata": {},
   "source": [
    "#### Here we are following the Functional Mode for building the model"
   ]
  },
  {
   "cell_type": "code",
   "execution_count": 11,
   "metadata": {},
   "outputs": [],
   "source": [
    "input_layer = Input(shape=(784,))\n",
    "encoding_layer = Dense(32, activation='relu')(input_layer)\n",
    "decoding_layer = Dense(784, activation='sigmoid')(encoding_layer)"
   ]
  },
  {
   "cell_type": "code",
   "execution_count": 12,
   "metadata": {},
   "outputs": [],
   "source": [
    "autoencoder = Model(input_layer, decoding_layer)"
   ]
  },
  {
   "cell_type": "code",
   "execution_count": 13,
   "metadata": {},
   "outputs": [
    {
     "name": "stdout",
     "output_type": "stream",
     "text": [
      "Model: \"model_1\"\n",
      "_________________________________________________________________\n",
      "Layer (type)                 Output Shape              Param #   \n",
      "=================================================================\n",
      "input_1 (InputLayer)         (None, 784)               0         \n",
      "_________________________________________________________________\n",
      "dense_1 (Dense)              (None, 32)                25120     \n",
      "_________________________________________________________________\n",
      "dense_2 (Dense)              (None, 784)               25872     \n",
      "=================================================================\n",
      "Total params: 50,992\n",
      "Trainable params: 50,992\n",
      "Non-trainable params: 0\n",
      "_________________________________________________________________\n"
     ]
    }
   ],
   "source": [
    "autoencoder.summary()"
   ]
  },
  {
   "cell_type": "code",
   "execution_count": 14,
   "metadata": {},
   "outputs": [],
   "source": [
    "autoencoder.compile(loss='binary_crossentropy', optimizer='adagrad')"
   ]
  },
  {
   "cell_type": "markdown",
   "metadata": {},
   "source": [
    "### Encoding layer\n",
    "#### Forming the encoding layer from total model"
   ]
  },
  {
   "cell_type": "code",
   "execution_count": 15,
   "metadata": {},
   "outputs": [],
   "source": [
    "encoder = Model(input_layer, encoding_layer)"
   ]
  },
  {
   "cell_type": "markdown",
   "metadata": {},
   "source": [
    "### Decoding layer\n",
    "#### Forming the decoding layer from total model"
   ]
  },
  {
   "cell_type": "code",
   "execution_count": 16,
   "metadata": {},
   "outputs": [],
   "source": [
    "encoded_input = Input(shape=(32,))\n",
    "decoded_output = autoencoder.layers[-1](encoded_input)\n",
    "decoder = Model(encoded_input, decoded_output)"
   ]
  },
  {
   "cell_type": "code",
   "execution_count": 17,
   "metadata": {},
   "outputs": [
    {
     "data": {
      "text/plain": [
       "TensorShape([None, 784])"
      ]
     },
     "execution_count": 17,
     "metadata": {},
     "output_type": "execute_result"
    }
   ],
   "source": [
    "decoded_output.shape"
   ]
  },
  {
   "cell_type": "code",
   "execution_count": 18,
   "metadata": {
    "scrolled": false
   },
   "outputs": [
    {
     "name": "stdout",
     "output_type": "stream",
     "text": [
      "Train on 48000 samples, validate on 12000 samples\n",
      "Epoch 1/50\n",
      "48000/48000 [==============================] - 2s 48us/step - loss: 0.1692 - val_loss: 0.1421\n",
      "Epoch 2/50\n",
      "48000/48000 [==============================] - 2s 47us/step - loss: 0.1339 - val_loss: 0.1273\n",
      "Epoch 3/50\n",
      "48000/48000 [==============================] - 2s 46us/step - loss: 0.1230 - val_loss: 0.1196\n",
      "Epoch 4/50\n",
      "48000/48000 [==============================] - 2s 44us/step - loss: 0.1168 - val_loss: 0.1147\n",
      "Epoch 5/50\n",
      "48000/48000 [==============================] - 2s 51us/step - loss: 0.1126 - val_loss: 0.1113\n",
      "Epoch 6/50\n",
      "48000/48000 [==============================] - 2s 44us/step - loss: 0.1097 - val_loss: 0.1089\n",
      "Epoch 7/50\n",
      "48000/48000 [==============================] - 2s 45us/step - loss: 0.1074 - val_loss: 0.1069\n",
      "Epoch 8/50\n",
      "48000/48000 [==============================] - 2s 45us/step - loss: 0.1057 - val_loss: 0.1054\n",
      "Epoch 9/50\n",
      "48000/48000 [==============================] - 2s 45us/step - loss: 0.1042 - val_loss: 0.1042\n",
      "Epoch 10/50\n",
      "48000/48000 [==============================] - 2s 42us/step - loss: 0.1030 - val_loss: 0.1031\n",
      "Epoch 11/50\n",
      "48000/48000 [==============================] - 2s 47us/step - loss: 0.1020 - val_loss: 0.1022\n",
      "Epoch 12/50\n",
      "48000/48000 [==============================] - 2s 45us/step - loss: 0.1012 - val_loss: 0.1014\n",
      "Epoch 13/50\n",
      "48000/48000 [==============================] - 3s 55us/step - loss: 0.1005 - val_loss: 0.1008\n",
      "Epoch 14/50\n",
      "48000/48000 [==============================] - 2s 51us/step - loss: 0.0998 - val_loss: 0.1002\n",
      "Epoch 15/50\n",
      "48000/48000 [==============================] - 3s 53us/step - loss: 0.0993 - val_loss: 0.0997\n",
      "Epoch 16/50\n",
      "48000/48000 [==============================] - 3s 57us/step - loss: 0.0988 - val_loss: 0.0993\n",
      "Epoch 17/50\n",
      "48000/48000 [==============================] - 3s 59us/step - loss: 0.0984 - val_loss: 0.0989\n",
      "Epoch 18/50\n",
      "48000/48000 [==============================] - 3s 61us/step - loss: 0.0980 - val_loss: 0.0986\n",
      "Epoch 19/50\n",
      "48000/48000 [==============================] - 3s 62us/step - loss: 0.0977 - val_loss: 0.0983\n",
      "Epoch 20/50\n",
      "48000/48000 [==============================] - 2s 48us/step - loss: 0.0975 - val_loss: 0.0981\n",
      "Epoch 21/50\n",
      "48000/48000 [==============================] - 3s 58us/step - loss: 0.0972 - val_loss: 0.0979\n",
      "Epoch 22/50\n",
      "48000/48000 [==============================] - 2s 51us/step - loss: 0.0970 - val_loss: 0.0977\n",
      "Epoch 23/50\n",
      "48000/48000 [==============================] - 3s 57us/step - loss: 0.0968 - val_loss: 0.0975\n",
      "Epoch 24/50\n",
      "48000/48000 [==============================] - 3s 66us/step - loss: 0.0967 - val_loss: 0.0974\n",
      "Epoch 25/50\n",
      "48000/48000 [==============================] - 3s 64us/step - loss: 0.0965 - val_loss: 0.0972\n",
      "Epoch 26/50\n",
      "48000/48000 [==============================] - 3s 63us/step - loss: 0.0964 - val_loss: 0.0971\n",
      "Epoch 27/50\n",
      "48000/48000 [==============================] - 3s 67us/step - loss: 0.0963 - val_loss: 0.0970\n",
      "Epoch 28/50\n",
      "48000/48000 [==============================] - 2s 47us/step - loss: 0.0962 - val_loss: 0.0969\n",
      "Epoch 29/50\n",
      "48000/48000 [==============================] - 2s 49us/step - loss: 0.0961 - val_loss: 0.0968\n",
      "Epoch 30/50\n",
      "48000/48000 [==============================] - 3s 62us/step - loss: 0.0960 - val_loss: 0.0967\n",
      "Epoch 31/50\n",
      "48000/48000 [==============================] - 3s 72us/step - loss: 0.0959 - val_loss: 0.0967\n",
      "Epoch 32/50\n",
      "48000/48000 [==============================] - 3s 67us/step - loss: 0.0958 - val_loss: 0.0966\n",
      "Epoch 33/50\n",
      "48000/48000 [==============================] - 3s 70us/step - loss: 0.0957 - val_loss: 0.0965\n",
      "Epoch 34/50\n",
      "48000/48000 [==============================] - 3s 59us/step - loss: 0.0957 - val_loss: 0.0965\n",
      "Epoch 35/50\n",
      "48000/48000 [==============================] - 3s 68us/step - loss: 0.0956 - val_loss: 0.0964\n",
      "Epoch 36/50\n",
      "48000/48000 [==============================] - 3s 58us/step - loss: 0.0956 - val_loss: 0.0963\n",
      "Epoch 37/50\n",
      "48000/48000 [==============================] - 3s 63us/step - loss: 0.0955 - val_loss: 0.0963\n",
      "Epoch 38/50\n",
      "48000/48000 [==============================] - 3s 66us/step - loss: 0.0955 - val_loss: 0.0962\n",
      "Epoch 39/50\n",
      "48000/48000 [==============================] - 3s 64us/step - loss: 0.0954 - val_loss: 0.0962\n",
      "Epoch 40/50\n",
      "48000/48000 [==============================] - 4s 73us/step - loss: 0.0954 - val_loss: 0.0962\n",
      "Epoch 41/50\n",
      "48000/48000 [==============================] - 2s 47us/step - loss: 0.0953 - val_loss: 0.0961\n",
      "Epoch 42/50\n",
      "48000/48000 [==============================] - 2s 44us/step - loss: 0.0953 - val_loss: 0.0961\n",
      "Epoch 43/50\n",
      "48000/48000 [==============================] - 2s 42us/step - loss: 0.0952 - val_loss: 0.0961\n",
      "Epoch 44/50\n",
      "48000/48000 [==============================] - 3s 53us/step - loss: 0.0952 - val_loss: 0.0960\n",
      "Epoch 45/50\n",
      "48000/48000 [==============================] - 3s 58us/step - loss: 0.0952 - val_loss: 0.0960\n",
      "Epoch 46/50\n",
      "48000/48000 [==============================] - 2s 43us/step - loss: 0.0951 - val_loss: 0.0960\n",
      "Epoch 47/50\n",
      "48000/48000 [==============================] - 2s 42us/step - loss: 0.0951 - val_loss: 0.0960\n",
      "Epoch 48/50\n",
      "48000/48000 [==============================] - 2s 41us/step - loss: 0.0951 - val_loss: 0.0959\n",
      "Epoch 49/50\n",
      "48000/48000 [==============================] - 2s 41us/step - loss: 0.0951 - val_loss: 0.0959\n",
      "Epoch 50/50\n",
      "48000/48000 [==============================] - 2s 39us/step - loss: 0.0950 - val_loss: 0.0959\n"
     ]
    },
    {
     "data": {
      "text/plain": [
       "<keras.callbacks.callbacks.History at 0x653991b90>"
      ]
     },
     "execution_count": 18,
     "metadata": {},
     "output_type": "execute_result"
    }
   ],
   "source": [
    "autoencoder.fit(x=x_train, y=x_train, batch_size=32, epochs=50, validation_split=0.2)"
   ]
  },
  {
   "cell_type": "markdown",
   "metadata": {},
   "source": [
    "#### Encoding on train data"
   ]
  },
  {
   "cell_type": "code",
   "execution_count": 19,
   "metadata": {},
   "outputs": [],
   "source": [
    "x_train_encoded = encoder.predict(x_train)"
   ]
  },
  {
   "cell_type": "markdown",
   "metadata": {},
   "source": [
    "#### Encoding on test data"
   ]
  },
  {
   "cell_type": "code",
   "execution_count": 20,
   "metadata": {},
   "outputs": [],
   "source": [
    "x_test_encoded = encoder.predict(x_test)"
   ]
  },
  {
   "cell_type": "code",
   "execution_count": 21,
   "metadata": {
    "scrolled": true
   },
   "outputs": [
    {
     "data": {
      "text/plain": [
       "(60000, 32)"
      ]
     },
     "execution_count": 21,
     "metadata": {},
     "output_type": "execute_result"
    }
   ],
   "source": [
    "x_train_encoded.shape"
   ]
  },
  {
   "cell_type": "markdown",
   "metadata": {},
   "source": [
    "#### Decoding on test encoded data"
   ]
  },
  {
   "cell_type": "code",
   "execution_count": 22,
   "metadata": {},
   "outputs": [],
   "source": [
    "x_test_decoded = decoder.predict(x_test_encoded)"
   ]
  },
  {
   "cell_type": "code",
   "execution_count": 23,
   "metadata": {},
   "outputs": [
    {
     "data": {
      "text/plain": [
       "(10000, 784)"
      ]
     },
     "execution_count": 23,
     "metadata": {},
     "output_type": "execute_result"
    }
   ],
   "source": [
    "x_test_decoded.shape"
   ]
  },
  {
   "cell_type": "code",
   "execution_count": 24,
   "metadata": {},
   "outputs": [
    {
     "data": {
      "text/plain": [
       "(10000, 784)"
      ]
     },
     "execution_count": 24,
     "metadata": {},
     "output_type": "execute_result"
    }
   ],
   "source": [
    "x_test.shape"
   ]
  },
  {
   "cell_type": "code",
   "execution_count": 25,
   "metadata": {},
   "outputs": [],
   "source": [
    "x_test = x_test.reshape(x_test.shape[0], 28, 28)"
   ]
  },
  {
   "cell_type": "code",
   "execution_count": 26,
   "metadata": {},
   "outputs": [
    {
     "data": {
      "text/plain": [
       "(10000, 28, 28)"
      ]
     },
     "execution_count": 26,
     "metadata": {},
     "output_type": "execute_result"
    }
   ],
   "source": [
    "x_test.shape"
   ]
  },
  {
   "cell_type": "code",
   "execution_count": 27,
   "metadata": {},
   "outputs": [
    {
     "data": {
      "text/plain": [
       "(10000, 784)"
      ]
     },
     "execution_count": 27,
     "metadata": {},
     "output_type": "execute_result"
    }
   ],
   "source": [
    "x_test_decoded.shape"
   ]
  },
  {
   "cell_type": "code",
   "execution_count": 28,
   "metadata": {},
   "outputs": [],
   "source": [
    "x_test_decoded = x_test_decoded.reshape(x_test_decoded.shape[0], 28, 28)"
   ]
  },
  {
   "cell_type": "code",
   "execution_count": 29,
   "metadata": {},
   "outputs": [
    {
     "data": {
      "text/plain": [
       "(10000, 28, 28)"
      ]
     },
     "execution_count": 29,
     "metadata": {},
     "output_type": "execute_result"
    }
   ],
   "source": [
    "x_test_decoded.shape"
   ]
  },
  {
   "cell_type": "markdown",
   "metadata": {},
   "source": [
    "#### Taking the random image from test data"
   ]
  },
  {
   "cell_type": "code",
   "execution_count": 30,
   "metadata": {},
   "outputs": [
    {
     "data": {
      "text/plain": [
       "3393"
      ]
     },
     "execution_count": 30,
     "metadata": {},
     "output_type": "execute_result"
    }
   ],
   "source": [
    "img = randint(0, x_test.shape[0])\n",
    "img"
   ]
  },
  {
   "cell_type": "code",
   "execution_count": 31,
   "metadata": {},
   "outputs": [
    {
     "data": {
      "text/plain": [
       "<matplotlib.image.AxesImage at 0x653971350>"
      ]
     },
     "execution_count": 31,
     "metadata": {},
     "output_type": "execute_result"
    },
    {
     "data": {
      "image/png": "[encoded data removed]",
      "text/plain": [
       "<Figure size 432x288 with 1 Axes>"
      ]
     },
     "metadata": {
      "needs_background": "light"
     },
     "output_type": "display_data"
    }
   ],
   "source": [
    "plt.imshow(x_test_decoded[img])"
   ]
  },
  {
   "cell_type": "code",
   "execution_count": 32,
   "metadata": {},
   "outputs": [
    {
     "data": {
      "text/plain": [
       "True"
      ]
     },
     "execution_count": 32,
     "metadata": {},
     "output_type": "execute_result"
    }
   ],
   "source": [
    "autoencoder.layers[1].trainable"
   ]
  },
  {
   "cell_type": "markdown",
   "metadata": {},
   "source": [
    "# Applications of Auto-encoders"
   ]
  },
  {
   "cell_type": "markdown",
   "metadata": {},
   "source": [
    "## 1. Anamoly detection"
   ]
  },
  {
   "cell_type": "markdown",
   "metadata": {},
   "source": [
    "### Above encoding and decoding is on MNIST data\n"
   ]
  },
  {
   "cell_type": "markdown",
   "metadata": {},
   "source": [
    "#### if the img.png is not one of the MNIST dataset that the model was trained on, the error will be very high."
   ]
  },
  {
   "cell_type": "code",
   "execution_count": 33,
   "metadata": {},
   "outputs": [],
   "source": [
    "import os"
   ]
  },
  {
   "cell_type": "code",
   "execution_count": 37,
   "metadata": {},
   "outputs": [
    {
     "data": {
      "text/plain": [
       "'/Users/i313121'"
      ]
     },
     "execution_count": 37,
     "metadata": {},
     "output_type": "execute_result"
    }
   ],
   "source": [
    "os.getcwd()\n"
   ]
  },
  {
   "cell_type": "code",
   "execution_count": 38,
   "metadata": {},
   "outputs": [],
   "source": [
    "os.chdir('/Users/i313121/Desktop')"
   ]
  },
  {
   "cell_type": "code",
   "execution_count": 52,
   "metadata": {},
   "outputs": [],
   "source": [
    "%matplotlib inline\n",
    "from keras.preprocessing import image\n",
    "import numpy as np"
   ]
  },
  {
   "cell_type": "code",
   "execution_count": 40,
   "metadata": {},
   "outputs": [
    {
     "name": "stdout",
     "output_type": "stream",
     "text": [
      "[5318.406]\n"
     ]
    }
   ],
   "source": [
    "img_anamoly = image.load_img(\"./venkatasatyanarayana.png\", target_size=(28, 28), color_mode = \"grayscale\")\n",
    "input_img = image.img_to_array(img_anamoly)\n",
    "inputs = input_img.reshape(1,784)\n",
    "target_data = autoencoder.predict(inputs)\n",
    "dist = np.linalg.norm(inputs - target_data, axis=-1)\n",
    "print(dist)"
   ]
  },
  {
   "cell_type": "markdown",
   "metadata": {},
   "source": [
    "## Conclusion\n",
    "### During the training we have seen that validation error for last epoch for MNIST data is 0.0943"
   ]
  },
  {
   "cell_type": "markdown",
   "metadata": {},
   "source": [
    "### However for above normal picture the error is 5317.6865"
   ]
  },
  {
   "cell_type": "markdown",
   "metadata": {},
   "source": [
    "# 2. Noise reduction "
   ]
  },
  {
   "cell_type": "markdown",
   "metadata": {},
   "source": [
    "### Auto-encoders help in reducing the noise"
   ]
  },
  {
   "cell_type": "markdown",
   "metadata": {},
   "source": [
    "### Since above model is trained on MNIST data\n",
    "### Let's introduce some NOISE to it and clear the denoise it"
   ]
  },
  {
   "cell_type": "code",
   "execution_count": 68,
   "metadata": {},
   "outputs": [],
   "source": [
    "from keras.datasets import mnist\n",
    "import numpy as np\n",
    "\n",
    "(x_train, _), (x_test, _) = mnist.load_data()\n",
    "\n",
    "x_train = x_train.astype('float32') / 255.\n",
    "x_test = x_test.astype('float32') / 255.\n",
    "x_train = np.reshape(x_train, (len(x_train), 28, 28, 1))  \n",
    "x_test = np.reshape(x_test, (len(x_test), 28, 28, 1))  \n",
    "\n",
    "noise_factor = 0.5\n",
    "x_train_noisy = x_train + noise_factor * np.random.normal(loc=0.0, scale=1.0, size=x_train.shape) \n",
    "x_test_noisy = x_test + noise_factor * np.random.normal(loc=0.0, scale=1.0, size=x_test.shape) \n",
    "\n",
    "x_train_noisy = np.clip(x_train_noisy, 0., 1.)\n",
    "x_test_noisy = np.clip(x_test_noisy, 0., 1.)"
   ]
  },
  {
   "cell_type": "code",
   "execution_count": 69,
   "metadata": {},
   "outputs": [
    {
     "data": {
      "text/plain": [
       "<matplotlib.image.AxesImage at 0x632f9b410>"
      ]
     },
     "execution_count": 69,
     "metadata": {},
     "output_type": "execute_result"
    },
    {
     "data": {
      "image/png": "[encoded data removed]",
      "text/plain": [
       "<Figure size 432x288 with 1 Axes>"
      ]
     },
     "metadata": {
      "needs_background": "light"
     },
     "output_type": "display_data"
    }
   ],
   "source": [
    "plt.imshow(x_test_noisy[1].reshape(28, 28)) ##Noisy Image"
   ]
  },
  {
   "cell_type": "code",
   "execution_count": 71,
   "metadata": {},
   "outputs": [
    {
     "data": {
      "text/plain": [
       "(10000, 28, 28, 1)"
      ]
     },
     "execution_count": 71,
     "metadata": {},
     "output_type": "execute_result"
    }
   ],
   "source": [
    "x_test_noisy.shape"
   ]
  },
  {
   "cell_type": "markdown",
   "metadata": {},
   "source": [
    "### Building CNN "
   ]
  },
  {
   "cell_type": "code",
   "execution_count": 72,
   "metadata": {},
   "outputs": [],
   "source": [
    "from keras.layers import Conv2D, MaxPooling2D\n",
    "from keras.layers import UpSampling2D\n",
    "from keras.callbacks import TensorBoard"
   ]
  },
  {
   "cell_type": "code",
   "execution_count": 87,
   "metadata": {},
   "outputs": [
    {
     "ename": "SyntaxError",
     "evalue": "invalid syntax (<ipython-input-87-87b999f33f71>, line 18)",
     "output_type": "error",
     "traceback": [
      "\u001b[0;36m  File \u001b[0;32m\"<ipython-input-87-87b999f33f71>\"\u001b[0;36m, line \u001b[0;32m18\u001b[0m\n\u001b[0;31m    cnnencoder = Model(input_img, cnndecoded)\u001b[0m\n\u001b[0m             ^\u001b[0m\n\u001b[0;31mSyntaxError\u001b[0m\u001b[0;31m:\u001b[0m invalid syntax\n"
     ]
    }
   ],
   "source": [
    "input_img = Input(shape=(28, 28, 1))\n",
    "\n",
    "x = Conv2D(32, (3, 3), activation='relu', padding='same')(input_img)\n",
    "x = MaxPooling2D((2, 2), padding='same')(x)\n",
    "x = Conv2D(32, (3, 3), activation='relu', padding='same')(x)\n",
    "cnnencoded = MaxPooling2D((2, 2), padding='same')(x)\n",
    "\n",
    "# at this point the representation is (7, 7, 32)\n",
    "\n",
    "x = Conv2D(32, (3, 3), activation='relu', padding='same')(cnnencoded)\n",
    "x = UpSampling2D((2, 2))(x)\n",
    "x = Conv2D(32, (3, 3), activation='relu', padding='same')(x)\n",
    "x = UpSampling2D((2, 2))(x)\n",
    "x = Conv2D(32, (3, 3), activation='relu', padding='same')(x)\n",
    "cnndecoded = Conv2D(3, (3, 3), activation='sigmoid', padding='same')(x)\n",
    "\n",
    "cnnencoder = Model(input_img, cnndecoded)\n",
    "cnnencoder.compile(optimizer='adadelta', loss='binary_crossentropy')"
   ]
  },
  {
   "cell_type": "code",
   "execution_count": 86,
   "metadata": {},
   "outputs": [
    {
     "name": "stdout",
     "output_type": "stream",
     "text": [
      "Train on 60000 samples, validate on 10000 samples\n",
      "Epoch 1/5\n",
      "60000/60000 [==============================] - 110s 2ms/step - loss: 0.1714 - val_loss: 0.1250\n",
      "Epoch 2/5\n",
      "60000/60000 [==============================] - 112s 2ms/step - loss: 0.1141 - val_loss: 0.1088\n",
      "Epoch 3/5\n",
      "60000/60000 [==============================] - 127s 2ms/step - loss: 0.1079 - val_loss: 0.1042\n",
      "Epoch 4/5\n",
      "60000/60000 [==============================] - 129s 2ms/step - loss: 0.1049 - val_loss: 0.1017\n",
      "Epoch 5/5\n",
      "60000/60000 [==============================] - 130s 2ms/step - loss: 0.1031 - val_loss: 0.1012\n"
     ]
    },
    {
     "data": {
      "text/plain": [
       "<keras.callbacks.callbacks.History at 0x634f01b90>"
      ]
     },
     "execution_count": 86,
     "metadata": {},
     "output_type": "execute_result"
    }
   ],
   "source": [
    "cnnencoder.fit(x_train_noisy, x_train,\n",
    "                epochs=5,\n",
    "                batch_size=128,\n",
    "                shuffle=True,\n",
    "                validation_data=(x_test_noisy, x_test),\n",
    "                callbacks=[TensorBoard(log_dir='/tmp/tb', histogram_freq=0, write_graph=False)])"
   ]
  },
  {
   "cell_type": "code",
   "execution_count": 75,
   "metadata": {},
   "outputs": [],
   "source": [
    "cnn_encoder = Model(input_img, cnnencoded)"
   ]
  },
  {
   "cell_type": "code",
   "execution_count": 76,
   "metadata": {},
   "outputs": [],
   "source": [
    "cnn_encoded_input = Input(shape=(7,7,32))\n",
    "cnn_decoded_output = cnnencoder.layers[-1](cnn_encoded_input)\n",
    "cnn_decoder = Model(cnn_encoded_input, cnn_decoded_output)"
   ]
  },
  {
   "cell_type": "code",
   "execution_count": 82,
   "metadata": {},
   "outputs": [
    {
     "data": {
      "text/plain": [
       "(10000, 28, 28, 1)"
      ]
     },
     "execution_count": 82,
     "metadata": {},
     "output_type": "execute_result"
    }
   ],
   "source": [
    "x_test.shape"
   ]
  },
  {
   "cell_type": "code",
   "execution_count": 77,
   "metadata": {},
   "outputs": [],
   "source": [
    "x_test_encoded = cnn_encoder.predict(x_test)"
   ]
  },
  {
   "cell_type": "code",
   "execution_count": 80,
   "metadata": {},
   "outputs": [
    {
     "data": {
      "text/plain": [
       "(10000, 7, 7, 32)"
      ]
     },
     "execution_count": 80,
     "metadata": {},
     "output_type": "execute_result"
    }
   ],
   "source": [
    "x_test_encoded.shape"
   ]
  },
  {
   "cell_type": "code",
   "execution_count": 78,
   "metadata": {},
   "outputs": [],
   "source": [
    "x_test_decoded = cnn_decoder.predict(x_test_encoded)"
   ]
  },
  {
   "cell_type": "code",
   "execution_count": 81,
   "metadata": {},
   "outputs": [
    {
     "data": {
      "text/plain": [
       "(10000, 7, 7, 1)"
      ]
     },
     "execution_count": 81,
     "metadata": {},
     "output_type": "execute_result"
    }
   ],
   "source": [
    "x_test_decoded.shape"
   ]
  },
  {
   "cell_type": "code",
   "execution_count": null,
   "metadata": {},
   "outputs": [],
   "source": [
    "img_noisy = x_test_noisy[1]\n",
    "input_nimg = image.img_to_array(img_noisy)\n",
    "target_data = cnn_decoder.predict(input_nimg)\n",
    "dist = np.linalg.norm(input_img - target_data, axis=-1)\n",
    "print(dist)"
   ]
  }
 ],
 "metadata": {
  "kernelspec": {
   "display_name": "Python 3",
   "language": "python",
   "name": "python3"
  },
  "language_info": {
   "codemirror_mode": {
    "name": "ipython",
    "version": 3
   },
   "file_extension": ".py",
   "mimetype": "text/x-python",
   "name": "python",
   "nbconvert_exporter": "python",
   "pygments_lexer": "ipython3",
   "version": "3.7.4"
  }
 },
 "nbformat": 4,
 "nbformat_minor": 2
}
